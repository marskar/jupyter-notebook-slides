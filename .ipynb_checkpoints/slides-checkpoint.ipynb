{
 "cells": [
  {
   "cell_type": "code",
   "execution_count": 3,
   "metadata": {
    "collapsed": true,
    "slideshow": {
     "slide_type": "skip"
    }
   },
   "outputs": [],
   "source": [
    "%matplotlib inline"
   ]
  },
  {
   "cell_type": "raw",
   "metadata": {
    "slideshow": {
     "slide_type": "skip"
    }
   },
   "source": [
    "<style type=\"text/css\">\n",
    ".reveal h1, .reveal h2 {\n",
    "    font-family:\"League Gothic\"\n",
    "}\n",
    "</style>"
   ]
  },
  {
   "cell_type": "markdown",
   "metadata": {
    "slideshow": {
     "slide_type": "notes"
    }
   },
   "source": [
    "Hello everyone! My name is Martin and today I am here to talk to about my MPH Capstone project."
   ]
  },
  {
   "cell_type": "markdown",
   "metadata": {
    "slideshow": {
     "slide_type": "slide"
    }
   },
   "source": [
    "<h2><center>\n",
    "Associations between <br>Single Nucleotide Polymorphisms <br>\n",
    "& Unexplained Lung Cancer Risk <br>\n",
    "in the ARIC Study Dataset\n",
    "</center></h2>\n",
    "<h3><center>\n",
    "MPH Epidemiology-Biostatistics Concentration <br>\n",
    "Research In Progress Meeting<br>\n",
    "11/30/2017<br>\n",
    "<br>\n",
    "Martin Skarzynski <br>\n",
    "Capstone Mentor: Prof. Elizabeth Platz <br>\n",
    "Johns Hopkins School of Public Health <br>\n",
    "</center></h3>"
   ]
  },
  {
   "cell_type": "markdown",
   "metadata": {
    "slideshow": {
     "slide_type": "slide"
    }
   },
   "source": [
    "###  Atherosclerosis Risk in Communities Study (ARIC) Dataset\n",
    "Cancer types with highest primary cancer incidence and cancer mortality 1987-2012\n",
    "among 14,735 at risk ARIC participants; 8,028 females, 6,707 males\n",
    " \n",
    "\n",
    "| Site                                                                                                                           |  Incidence | Mortality |\n",
    "|--------------------------------------------------------------------------------------------------------------------------------|----------------------------------------------|------------|\n",
    "| Colon                              | 364   | 109       |\n",
    "| Lung and bronchus                  | 748   | 526       |\n",
    "| Hematopoietic/lymphatic            | 378   | 177       |\n",
    "| Melanoma                           | 130   | 14        |\n",
    "| Breast (female & male)             | 696   | 112       |\n",
    "| Prostate                           | 887   | 91        |\n",
    "| Kidney                             | 178   | 42        |\n",
    "| Bladder                            | 234   | 36        |\n",
    "\n",
    "Can SNPs explain some variance left after taking into account known risk factors?"
   ]
  },
  {
   "cell_type": "markdown",
   "metadata": {
    "slideshow": {
     "slide_type": "slide"
    }
   },
   "source": [
    "### Everything I need is on the cluster:\n",
    "- ARIC epidemiologic & genomic data \n",
    "- BASH & R scripts to work with the data\n",
    "- Compute resources"
   ]
  },
  {
   "cell_type": "code",
   "execution_count": 1,
   "metadata": {
    "slideshow": {
     "slide_type": "-"
    }
   },
   "outputs": [
    {
     "data": {
      "text/plain": [
       "False"
      ]
     },
     "execution_count": 1,
     "metadata": {},
     "output_type": "execute_result"
    }
   ],
   "source": [
    "candy_store = \"Joint High Performance Computing Exchange (JHPCE)\"\n",
    "kid = \"Martin Skarzynski\"\n",
    "kid in candy_store"
   ]
  },
  {
   "cell_type": "markdown",
   "metadata": {
    "slideshow": {
     "slide_type": "-"
    }
   },
   "source": [
    "Working on getting access to the cluster and the dataset :)"
   ]
  },
  {
   "cell_type": "markdown",
   "metadata": {
    "slideshow": {
     "slide_type": "slide"
    }
   },
   "source": [
    "# <center> Thanks for listening!</center>\n",
    "<img src=\"bash.png\" style=\"float: left; width: 23%; margin-right: 1%; margin-bottom: 0.5em;\">\n",
    "<img src=\"r.png\" style=\"float: left; width: 23%; margin-right: 1%; margin-bottom: 0.5em;\">\n",
    "<img src=\"py.png\" style=\"float: left; width: 23%; margin-right: 1%; margin-bottom: 0.5em;\">\n",
    "<img src=\"jup.png\" style=\"float: left; width: 23%; margin-right: 1%; margin-bottom: 0.5em;\">"
   ]
  },
  {
   "cell_type": "markdown",
   "metadata": {
    "slideshow": {
     "slide_type": "-"
    }
   },
   "source": [
    "<center>Slides: https://marskar.github.io/jupyter-notebook-slides/</center>\n",
    "<center>Code: https://github.com/marskar/jupyter-notebook-slides</center>"
   ]
  }
 ],
 "metadata": {
  "celltoolbar": "Slideshow",
  "kernelspec": {
   "display_name": "Python 3",
   "language": "python",
   "name": "python3"
  },
  "language_info": {
   "codemirror_mode": {
    "name": "ipython",
    "version": 3
   },
   "file_extension": ".py",
   "mimetype": "text/x-python",
   "name": "python",
   "nbconvert_exporter": "python",
   "pygments_lexer": "ipython3",
   "version": "3.6.3"
  },
  "widgets": {
   "state": {},
   "version": "1.0.0"
  }
 },
 "nbformat": 4,
 "nbformat_minor": 1
}
