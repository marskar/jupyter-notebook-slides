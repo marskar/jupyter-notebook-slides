{
 "cells": [
  {
   "cell_type": "markdown",
   "metadata": {
    "slideshow": {
     "slide_type": "slide"
    }
   },
   "source": [
    "<h2><center>\n",
    "Associations between <br>Single Nucleotide Polymorphisms <br>\n",
    "& Unexplained Lung Cancer Risk <br>\n",
    "in the ARIC Study Dataset\n",
    "</center></h2>\n",
    "<h3><center>\n",
    "MPH Epidemiology-Biostatistics Concentration <br>\n",
    "Research In Progress Meeting<br>\n",
    "11/30/2017<br>\n",
    "<br>\n",
    "Martin Skarzynski <br>\n",
    "Capstone Mentor: Prof. Elizabeth Platz <br>\n",
    "Johns Hopkins School of Public Health <br>\n",
    "</center></h3>"
   ]
  },
  {
   "cell_type": "markdown",
   "metadata": {
    "slideshow": {
     "slide_type": "slide"
    }
   },
   "source": [
    "###  Atherosclerosis Risk in Communities Study (ARIC) Dataset\n",
    "Cancer types with highest primary cancer incidence and cancer mortality 1987-2012\n",
    "among 14,735 at risk ARIC participants; 8,028 females, 6,707 males\n",
    " \n",
    "\n",
    "| Site                                                                                                                           |  Incidence | Mortality |\n",
    "|--------------------------------------------------------------------------------------------------------------------------------|----------------------------------------------|------------|\n",
    "| Colon                              | 364   | 109       |\n",
    "| Lung and bronchus                  | 748   | 526       |\n",
    "| Hematopoietic/lymphatic            | 378   | 177       |\n",
    "| Melanoma                           | 130   | 14        |\n",
    "| Breast (female & male)             | 696   | 112       |\n",
    "| Prostate                           | 887   | 91        |\n",
    "| Kidney                             | 178   | 42        |\n",
    "| Bladder                            | 234   | 36        |\n",
    "\n",
    "Can SNPs explain some variance left after taking into account known risk factors?"
   ]
  },
  {
   "cell_type": "markdown",
   "metadata": {
    "slideshow": {
     "slide_type": "skip"
    }
   },
   "source": [
    "### Atherosclerosis Risk in Communities Study (ARIC) Dataset\n",
    "\n",
    "1987-2012 Incident primary cancer cases and deaths from cancer as the underlying cause among 14,735 at risk ARIC participants; 8,028 females, 6,707 males\n",
    "\n",
    "| Site                                                                                                                           | ICDO-3                                       | 1st/co-1st | 2nd | Subsequent | Total | Mortality |\n",
    "|--------------------------------------------------------------------------------------------------------------------------------|----------------------------------------------|------------|-----|------------|-------|-----------|\n",
    "| Head/neck                                                                                                                      | C0.0-C14.9                                   | 60         | 8   | 3          | 71    | 16        |\n",
    "| Colon                                                                                                                          | C18.0, C18.2-C18.9, C19.9                    | 327        | 33  | 4          | 364   | 109       |\n",
    "| Rectal                                                                                                                         | C20.9                                        | 59         | 5   | 1          | 65    | 15        |\n",
    "| Pancreas                                                                                                                       | C25.0-C25.9                                  | 109        | 16  | 2          | 127   | 120       |\n",
    "| Liver                                                                                                                          | C22.0                                        | 26         | 0   | 0          | 26    | 24        |\n",
    "| Stomach                                                                                                                        | C16.0-C16.9                                  | 61         | 18  | 0          | 79    | 41        |\n",
    "| Other digestive                                                                                                                | C15.0-C17.9, C18.1, C22.0-C24.9, C26.0-C26.9 | 101        | 17  | 3          | 121   | 70        |\n",
    "| Lung and bronchus                                                                                                              | C34.0-C34.9                                  | 624        | 109 | 15         | 748   | 526       |\n",
    "| Other respiratory                                                                                                              | C30.0-C33.9                                  | 33         | 7   | 2          | 42    | 12        |\n",
    "| Hematopoietic/lymphatic                                                                                                        | C42.0-C42.4                                  | 311        | 61  | 6          | 378   | 177       |\n",
    "| Melanoma                                                                                                                       | C44.0-C44.9                                  | 106        | 21  | 3          | 130   | 14        |\n",
    "| Breast (female & male)                                                                                                         | C50.0-C50.9                                  | 618        | 71  | 7          | 696   | 112       |\n",
    "| Cervical                                                                                                                       | C53.0-C53.9                                  | 23         | 1   | 0          | 24    | 3         |\n",
    "| Endometrial                                                                                                                    | C54.0-C54.9                                  | 109        | 13  | 0          | 122   | 10        |\n",
    "| Ovarian                                                                                                                        | C56.9                                        | 62         | 2   | 1          | 65    | 13        |\n",
    "| Prostate                                                                                                                       | C61.9                                        | 834        | 50  | 3          | 887   | 91        |\n",
    "| Kidney                                                                                                                         | C64.9-C66.9                                  | 142        | 31  | 5          | 178   | 42        |\n",
    "| Bladder                                                                                                                        | C67.0-C67.9                                  | 189        | 39  | 6          | 234   | 36        |\n",
    "| Brain and other CNS                                                                                                            | C70.0-C72.9                                  | 90         | 14  | 0          | 104   | 37        |\n",
    "| Thyroid                                                                                                                        | C73.9                                        | 28         | 5   | 0          | 33    | 4         |\n",
    "| Unspecified site                                                                                                               | C80.9                                        | 76         | 15  | 1          | 92    | 85        |\n",
    "| Other sites                                                                                                                    | All remaining                                | 140        | 14  | 3          | 157   | 103       |\n",
    "| Total                                                                                                                          |                                              | 4,128      | 550 | 65         | 4,743 | 1,660     |\n"
   ]
  },
  {
   "cell_type": "markdown",
   "metadata": {
    "slideshow": {
     "slide_type": "slide"
    }
   },
   "source": [
    "### Everything I need is on the cluster:\n",
    "- ARIC epidemiologic & genomic data \n",
    "- BASH & R scripts to work with the data\n",
    "- Compute resources"
   ]
  },
  {
   "cell_type": "code",
   "execution_count": 1,
   "metadata": {
    "slideshow": {
     "slide_type": "-"
    }
   },
   "outputs": [
    {
     "data": {
      "text/plain": [
       "False"
      ]
     },
     "execution_count": 1,
     "metadata": {},
     "output_type": "execute_result"
    }
   ],
   "source": [
    "candy_store = \"Joint High Performance Computing Exchange (JHPCE)\"\n",
    "kid = \"Martin Skarzynski\"\n",
    "kid in candy_store"
   ]
  },
  {
   "cell_type": "markdown",
   "metadata": {
    "slideshow": {
     "slide_type": "-"
    }
   },
   "source": [
    "Working on getting access to the cluster and the dataset :)"
   ]
  },
  {
   "cell_type": "markdown",
   "metadata": {
    "slideshow": {
     "slide_type": "slide"
    }
   },
   "source": [
    "## Thanks for listening!\n",
    "\n",
    "![bash](bash.png)\n",
    "![r](r.png)\n"
   ]
  },
  {
   "cell_type": "code",
   "execution_count": null,
   "metadata": {},
   "outputs": [],
   "source": []
  }
 ],
 "metadata": {
  "celltoolbar": "Slideshow",
  "kernelspec": {
   "display_name": "Python 3",
   "language": "python",
   "name": "python3"
  },
  "language_info": {
   "codemirror_mode": {
    "name": "ipython",
    "version": 3
   },
   "file_extension": ".py",
   "mimetype": "text/x-python",
   "name": "python",
   "nbconvert_exporter": "python",
   "pygments_lexer": "ipython3",
   "version": "3.6.3"
  }
 },
 "nbformat": 4,
 "nbformat_minor": 2
}
